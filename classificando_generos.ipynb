import pandas as pd
from sklearn.model_selection import train_test_split
from sklearn.linear_model import LogisticRegression

generos = pd.read_csv('generos.csv')
generos = pd.DataFrame(generos)
generos

# Separar características e target
X = generos.drop('gender', axis=1) 
y = generos['gender']

# Dividir os dados em conjunto de treinamento e conjunto de teste
X_treino, X_teste, y_treino, y_teste = train_test_split(X, y, test_size=0.2, random_state=42)

# Escolher o algoritmo de classificação
modelo = LogisticRegression()

# Treinar o modelo
modelo.fit(X_treino, y_treino)

# Fazer previsões
previsoes = modelo.predict(X)

# Adicionar as previsões ao DataFrame original
generos['previsoes'] = previsoes

# Visualizar o DataFrame com as previsões adicionadas
display(generos)
